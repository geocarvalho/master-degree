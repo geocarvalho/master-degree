{
 "cells": [
  {
   "cell_type": "code",
   "execution_count": 75,
   "source": [
    "import os\n",
    "import glob\n",
    "import pandas as pd\n",
    "import matplotlib.pyplot as plt\n",
    "from matplotlib.backends.backend_pdf import PdfPages"
   ],
   "outputs": [],
   "metadata": {}
  },
  {
   "cell_type": "code",
   "execution_count": 81,
   "source": [
    "def create_pdf(df, dirname, filename):\n",
    "    \"\"\" Create a PDF with histograms for each column in df \"\"\"\n",
    "    output = os.path.join(dirname, filename.replace(\".csv\", \".pdf\"))\n",
    "    with PdfPages(output) as pdf:\n",
    "        for col in df.columns:\n",
    "            df[col].hist()\n",
    "            plt.title(col)\n",
    "            pdf.savefig()\n",
    "            plt.close()\n",
    "\n",
    "data = glob.glob(\"/Users/geocarvalho/Documents/master/subgroups_tables/ssdp_sb_*_11cols.csv\")\n",
    "for sb in data:\n",
    "    dirname = os.path.dirname(sb)\n",
    "    filename = os.path.basename(sb)\n",
    "    df = pd.read_csv(sb)\n",
    "    create_pdf(df, dirname, filename)"
   ],
   "outputs": [],
   "metadata": {}
  }
 ],
 "metadata": {
  "orig_nbformat": 4,
  "language_info": {
   "name": "python",
   "version": "3.8.10",
   "mimetype": "text/x-python",
   "codemirror_mode": {
    "name": "ipython",
    "version": 3
   },
   "pygments_lexer": "ipython3",
   "nbconvert_exporter": "python",
   "file_extension": ".py"
  },
  "kernelspec": {
   "name": "python3",
   "display_name": "Python 3.8.10 64-bit ('base': conda)"
  },
  "interpreter": {
   "hash": "ff1451f766ff1f2aab9fee63bb48cc74e2e1277d7805d9df96af52a7af6088e7"
  }
 },
 "nbformat": 4,
 "nbformat_minor": 2
}